{
 "cells": [
  {
   "cell_type": "code",
   "execution_count": 1,
   "id": "2c709c0d-be32-466e-91e6-faed4de83d95",
   "metadata": {},
   "outputs": [],
   "source": [
    "from fastbook import *\n",
    "from pandas.api.types import is_string_dtype, is_numeric_dtype, is_categorical_dtype\n",
    "from fastai.tabular.all import *\n",
    "from sklearn.ensemble import RandomForestRegressor\n",
    "import matplotlib.pyplot as plt\n",
    "import seaborn as sns\n",
    "import numpy as np, scipy.stats as st"
   ]
  },
  {
   "cell_type": "code",
   "execution_count": 2,
   "id": "93134e90-9574-462e-89f3-29f848ba1d62",
   "metadata": {},
   "outputs": [
    {
     "data": {
      "text/plain": [
       "(9231, 75)"
      ]
     },
     "execution_count": 2,
     "metadata": {},
     "output_type": "execute_result"
    }
   ],
   "source": [
    "#Loading the data\n",
    "L=pd.read_csv(\"listings.csv\")\n",
    "L.shape"
   ]
  },
  {
   "cell_type": "markdown",
   "id": "cc75063b-d28f-4205-839e-8853ffc40958",
   "metadata": {},
   "source": [
    "### Data preprocessing using TabularPandas and TabularProc for regression and further analyses"
   ]
  },
  {
   "cell_type": "markdown",
   "id": "badbeca1-2116-4067-a2dc-f38b258eec64",
   "metadata": {},
   "source": [
    "piece of preparatory processing is to be sure we can handle strings and missing data. Out of the box, sklearn cannot do either. Instead we will use fastai's class TabularPandas, which wraps a Pandas DataFrame and provides a few conveniences. To populate a TabularPandas, we will use two TabularProcs, Categorify and FillMissing. A TabularProc is like a regular"
   ]
  },
  {
   "cell_type": "markdown",
   "id": "52c105ad-c672-4fb5-b6c5-b0fb7f90705c",
   "metadata": {
    "jp-MarkdownHeadingCollapsed": true,
    "tags": []
   },
   "source": [
    "first we have to drop all the columns that we wont use in our calculations"
   ]
  },
  {
   "cell_type": "code",
   "execution_count": 3,
   "id": "88332919-7cdc-4940-b73a-82b98e464fae",
   "metadata": {},
   "outputs": [
    {
     "data": {
      "text/plain": [
       "array(['1 bath', nan, '2 baths', '3 baths', '1 shared bath', '0 baths', '1 private bath', '1.5 baths', '1.5 shared baths', '4 baths', '2.5 baths', '6 baths', '2 shared baths', '4.5 shared baths',\n",
       "       '3 shared baths', '4.5 baths', '5 shared baths', '3.5 baths', '5 baths', '0 shared baths', '2.5 shared baths', 'Private half-bath', '3.5 shared baths', 'Half-bath', '4 shared baths',\n",
       "       'Shared half-bath', '6 shared baths', '7 shared baths', '28 baths', '8 baths', '10 baths', '11.5 baths', '7 baths', '5.5 baths', '24 baths', '7.5 baths', '8 shared baths'], dtype=object)"
      ]
     },
     "execution_count": 3,
     "metadata": {},
     "output_type": "execute_result"
    }
   ],
   "source": [
    "L.bathrooms_text.unique()"
   ]
  },
  {
   "cell_type": "code",
   "execution_count": 4,
   "id": "7f430370-c23d-4355-8c69-090918b1cfb7",
   "metadata": {},
   "outputs": [],
   "source": [
    "L.bathrooms_text=L.bathrooms_text.str.replace(\"shared\",\"\")\n",
    "L.bathrooms_text=L.bathrooms_text.str.replace(\"Shared\",\"\")\n",
    "L.bathrooms_text=L.bathrooms_text.str.replace(\"bath\",\"\")\n",
    "L.bathrooms_text=L.bathrooms_text.str.replace(\"Private\",\"\")\n",
    "L.bathrooms_text=L.bathrooms_text.str.replace(\"half-bath\",\"\")\n",
    "L.bathrooms_text=L.bathrooms_text.str.replace(\"s\",\"\")\n",
    "L.bathrooms_text=L.bathrooms_text.str.replace(\"private\",\"\")\n",
    "L.bathrooms_text=L.bathrooms_text.str.replace(\"half-\",\"\")\n",
    "L.bathrooms_text=L.bathrooms_text.str.replace(\"Half-\",\"\")"
   ]
  },
  {
   "cell_type": "code",
   "execution_count": 5,
   "id": "a0616e18-f284-4e6e-ad75-6bcc2e8eab0f",
   "metadata": {},
   "outputs": [],
   "source": [
    "L[\"bath\"]=L.bathrooms_text"
   ]
  },
  {
   "cell_type": "code",
   "execution_count": 6,
   "id": "e092084a-0fa6-4c83-887a-f159b54de1fc",
   "metadata": {},
   "outputs": [],
   "source": [
    "keep_list=columns2=[\"price\",\"review_scores_value\",\"room_type\",\"instant_bookable\",\"host_identity_verified\",\"number_of_reviews\",\"beds\",\"bath\",\"bedrooms\",\"reviews_per_month\",\"neighbourhood_cleansed\",\"property_type\",\"availability_30\",\"availability_60\",\"availability_90\",\"availability_365\"]\n",
    "listings=L[keep_list]"
   ]
  },
  {
   "cell_type": "code",
   "execution_count": 7,
   "id": "2a72ee52-5429-4158-9bbb-ff33edc0050f",
   "metadata": {},
   "outputs": [
    {
     "data": {
      "text/html": [
       "<div>\n",
       "<style scoped>\n",
       "    .dataframe tbody tr th:only-of-type {\n",
       "        vertical-align: middle;\n",
       "    }\n",
       "\n",
       "    .dataframe tbody tr th {\n",
       "        vertical-align: top;\n",
       "    }\n",
       "\n",
       "    .dataframe thead th {\n",
       "        text-align: right;\n",
       "    }\n",
       "</style>\n",
       "<table border=\"1\" class=\"dataframe\">\n",
       "  <thead>\n",
       "    <tr style=\"text-align: right;\">\n",
       "      <th></th>\n",
       "      <th>price</th>\n",
       "      <th>review_scores_value</th>\n",
       "      <th>room_type</th>\n",
       "      <th>instant_bookable</th>\n",
       "      <th>host_identity_verified</th>\n",
       "      <th>number_of_reviews</th>\n",
       "      <th>beds</th>\n",
       "      <th>bath</th>\n",
       "      <th>bedrooms</th>\n",
       "      <th>reviews_per_month</th>\n",
       "      <th>neighbourhood_cleansed</th>\n",
       "      <th>property_type</th>\n",
       "      <th>availability_30</th>\n",
       "      <th>availability_60</th>\n",
       "      <th>availability_90</th>\n",
       "      <th>availability_365</th>\n",
       "    </tr>\n",
       "  </thead>\n",
       "  <tbody>\n",
       "    <tr>\n",
       "      <th>0</th>\n",
       "      <td>320.591862</td>\n",
       "      <td>4.75</td>\n",
       "      <td>Entire home/apt</td>\n",
       "      <td>f</td>\n",
       "      <td>t</td>\n",
       "      <td>12</td>\n",
       "      <td>2.0</td>\n",
       "      <td>1</td>\n",
       "      <td>1.0</td>\n",
       "      <td>0.54</td>\n",
       "      <td>Providencia</td>\n",
       "      <td>Entire rental unit</td>\n",
       "      <td>0</td>\n",
       "      <td>0</td>\n",
       "      <td>0</td>\n",
       "      <td>216</td>\n",
       "    </tr>\n",
       "    <tr>\n",
       "      <th>1</th>\n",
       "      <td>53.092478</td>\n",
       "      <td>NaN</td>\n",
       "      <td>Private room</td>\n",
       "      <td>t</td>\n",
       "      <td>t</td>\n",
       "      <td>0</td>\n",
       "      <td>1.0</td>\n",
       "      <td>NaN</td>\n",
       "      <td>1.0</td>\n",
       "      <td>NaN</td>\n",
       "      <td>Providencia</td>\n",
       "      <td>Private room in rental unit</td>\n",
       "      <td>28</td>\n",
       "      <td>58</td>\n",
       "      <td>88</td>\n",
       "      <td>178</td>\n",
       "    </tr>\n",
       "    <tr>\n",
       "      <th>2</th>\n",
       "      <td>54.093711</td>\n",
       "      <td>4.44</td>\n",
       "      <td>Entire home/apt</td>\n",
       "      <td>f</td>\n",
       "      <td>t</td>\n",
       "      <td>45</td>\n",
       "      <td>1.0</td>\n",
       "      <td>1</td>\n",
       "      <td>1.0</td>\n",
       "      <td>0.43</td>\n",
       "      <td>Providencia</td>\n",
       "      <td>Entire rental unit</td>\n",
       "      <td>1</td>\n",
       "      <td>2</td>\n",
       "      <td>2</td>\n",
       "      <td>2</td>\n",
       "    </tr>\n",
       "    <tr>\n",
       "      <th>3</th>\n",
       "      <td>184.955610</td>\n",
       "      <td>4.68</td>\n",
       "      <td>Entire home/apt</td>\n",
       "      <td>f</td>\n",
       "      <td>t</td>\n",
       "      <td>38</td>\n",
       "      <td>8.0</td>\n",
       "      <td>2</td>\n",
       "      <td>2.0</td>\n",
       "      <td>0.59</td>\n",
       "      <td>Lo Barnechea</td>\n",
       "      <td>Entire rental unit</td>\n",
       "      <td>30</td>\n",
       "      <td>60</td>\n",
       "      <td>90</td>\n",
       "      <td>365</td>\n",
       "    </tr>\n",
       "    <tr>\n",
       "      <th>4</th>\n",
       "      <td>86.313194</td>\n",
       "      <td>5.00</td>\n",
       "      <td>Entire home/apt</td>\n",
       "      <td>f</td>\n",
       "      <td>t</td>\n",
       "      <td>2</td>\n",
       "      <td>4.0</td>\n",
       "      <td>2</td>\n",
       "      <td>2.0</td>\n",
       "      <td>0.03</td>\n",
       "      <td>Providencia</td>\n",
       "      <td>Entire rental unit</td>\n",
       "      <td>30</td>\n",
       "      <td>60</td>\n",
       "      <td>90</td>\n",
       "      <td>365</td>\n",
       "    </tr>\n",
       "  </tbody>\n",
       "</table>\n",
       "</div>"
      ],
      "text/plain": [
       "        price  review_scores_value        room_type instant_bookable  \\\n",
       "0  320.591862                 4.75  Entire home/apt                f   \n",
       "1   53.092478                  NaN     Private room                t   \n",
       "2   54.093711                 4.44  Entire home/apt                f   \n",
       "3  184.955610                 4.68  Entire home/apt                f   \n",
       "4   86.313194                 5.00  Entire home/apt                f   \n",
       "\n",
       "  host_identity_verified  number_of_reviews  beds bath  bedrooms  \\\n",
       "0                      t                 12   2.0   1        1.0   \n",
       "1                      t                  0   1.0  NaN       1.0   \n",
       "2                      t                 45   1.0   1        1.0   \n",
       "3                      t                 38   8.0   2        2.0   \n",
       "4                      t                  2   4.0   2        2.0   \n",
       "\n",
       "   reviews_per_month neighbourhood_cleansed                property_type  \\\n",
       "0               0.54            Providencia           Entire rental unit   \n",
       "1                NaN            Providencia  Private room in rental unit   \n",
       "2               0.43            Providencia           Entire rental unit   \n",
       "3               0.59           Lo Barnechea           Entire rental unit   \n",
       "4               0.03            Providencia           Entire rental unit   \n",
       "\n",
       "   availability_30  availability_60  availability_90  availability_365  \n",
       "0                0                0                0               216  \n",
       "1               28               58               88               178  \n",
       "2                1                2                2                 2  \n",
       "3               30               60               90               365  \n",
       "4               30               60               90               365  "
      ]
     },
     "execution_count": 7,
     "metadata": {},
     "output_type": "execute_result"
    }
   ],
   "source": [
    "listings.head()"
   ]
  },
  {
   "cell_type": "markdown",
   "id": "94c61d1b-0745-45fe-b582-63f10ccbd606",
   "metadata": {},
   "source": [
    "TabularPandas needs to be told which columns are continuous and which are categorical. We can handle that automatically using the helper function cont_cat_split:"
   ]
  },
  {
   "cell_type": "code",
   "execution_count": 8,
   "id": "88ada064-c25c-4753-afd5-303e005e5b5b",
   "metadata": {},
   "outputs": [],
   "source": [
    "dep_var=\"price\""
   ]
  },
  {
   "cell_type": "code",
   "execution_count": 9,
   "id": "b10af5ae-ad07-4666-9c21-787a00770fad",
   "metadata": {},
   "outputs": [],
   "source": [
    "cont,cat = cont_cat_split(listings, 1, dep_var=dep_var)"
   ]
  },
  {
   "cell_type": "code",
   "execution_count": 10,
   "id": "7f92fa54-cf83-4196-a488-63e103252c5e",
   "metadata": {},
   "outputs": [],
   "source": [
    "procs = [Categorify, FillMissing]\n",
    "to = TabularPandas(listings, procs, cat, cont, y_names=dep_var)"
   ]
  },
  {
   "cell_type": "markdown",
   "id": "2c7bab35-3558-4efd-b763-f62bdc91cd4a",
   "metadata": {},
   "source": [
    "### 1.What are the proportions of apartments per neighbourhood?"
   ]
  },
  {
   "cell_type": "code",
   "execution_count": 11,
   "id": "130d0b64-1d76-4d38-8ed6-bbc89081b80e",
   "metadata": {},
   "outputs": [
    {
     "name": "stdout",
     "output_type": "stream",
     "text": [
      "31\n"
     ]
    }
   ],
   "source": [
    "### number of neighbourhoods in the data\n",
    "print(len(listings.neighbourhood_cleansed.unique()))"
   ]
  },
  {
   "cell_type": "markdown",
   "id": "48bc83b0-483d-424a-bfbc-29eda57c73b9",
   "metadata": {},
   "source": [
    "There are 31 neighbourhouds in our data"
   ]
  },
  {
   "cell_type": "code",
   "execution_count": 12,
   "id": "0e1fb01c-cb2e-45f0-9743-3e8a5a06cef9",
   "metadata": {},
   "outputs": [
    {
     "data": {
      "text/plain": [
       "297.7741935483871"
      ]
     },
     "execution_count": 12,
     "metadata": {},
     "output_type": "execute_result"
    }
   ],
   "source": [
    "aparts = listings.groupby('neighbourhood_cleansed')['neighbourhood_cleansed'].count()\n",
    "ap = pd.DataFrame(aparts)\n",
    "values_ =ap.iloc[:,-1].values.sum()\n",
    "solution= values_/31\n",
    "solution"
   ]
  },
  {
   "cell_type": "markdown",
   "id": "9b599148-3aff-4d42-b528-3d3306241985",
   "metadata": {},
   "source": [
    "The average number of apartments per neighbourhoud is 297.77."
   ]
  },
  {
   "cell_type": "markdown",
   "id": "28b8fc24-93e6-4531-8570-efdd3989a50e",
   "metadata": {},
   "source": [
    "### 2.What are the proportions of apartment per apartment type?"
   ]
  },
  {
   "cell_type": "code",
   "execution_count": 13,
   "id": "e5b0587c-b730-4d04-9fbe-8c70a66dcbce",
   "metadata": {},
   "outputs": [
    {
     "data": {
      "text/plain": [
       "116.84810126582279"
      ]
     },
     "execution_count": 13,
     "metadata": {},
     "output_type": "execute_result"
    }
   ],
   "source": [
    "aparts2 = listings.groupby('property_type')['property_type'].count()\n",
    "aparts2.sum()/len(listings.property_type.unique())"
   ]
  },
  {
   "cell_type": "markdown",
   "id": "fa4ec7f9-a374-4715-9e73-62b4600d41d5",
   "metadata": {},
   "source": [
    "The average number of apartments per apartment type is 116.84."
   ]
  },
  {
   "cell_type": "markdown",
   "id": "be54c6e2-a8e6-4e9f-be7f-290f8fdc8b05",
   "metadata": {},
   "source": [
    "### 3.What are proportions of apartment types for the three biggest neighbourhoods?"
   ]
  },
  {
   "cell_type": "code",
   "execution_count": 18,
   "id": "188bb65b-f316-4aa0-a3de-797a4cb75da5",
   "metadata": {},
   "outputs": [
    {
     "data": {
      "text/html": [
       "<div>\n",
       "<style scoped>\n",
       "    .dataframe tbody tr th:only-of-type {\n",
       "        vertical-align: middle;\n",
       "    }\n",
       "\n",
       "    .dataframe tbody tr th {\n",
       "        vertical-align: top;\n",
       "    }\n",
       "\n",
       "    .dataframe thead th {\n",
       "        text-align: right;\n",
       "    }\n",
       "</style>\n",
       "<table border=\"1\" class=\"dataframe\">\n",
       "  <thead>\n",
       "    <tr style=\"text-align: right;\">\n",
       "      <th></th>\n",
       "      <th>neighbourhood_cleansed</th>\n",
       "    </tr>\n",
       "    <tr>\n",
       "      <th>neighbourhood_cleansed</th>\n",
       "      <th></th>\n",
       "    </tr>\n",
       "  </thead>\n",
       "  <tbody>\n",
       "    <tr>\n",
       "      <th>Cerrillos</th>\n",
       "      <td>10</td>\n",
       "    </tr>\n",
       "    <tr>\n",
       "      <th>Cerro Navia</th>\n",
       "      <td>8</td>\n",
       "    </tr>\n",
       "    <tr>\n",
       "      <th>Conchalí</th>\n",
       "      <td>8</td>\n",
       "    </tr>\n",
       "    <tr>\n",
       "      <th>El Bosque</th>\n",
       "      <td>5</td>\n",
       "    </tr>\n",
       "    <tr>\n",
       "      <th>Estación Central</th>\n",
       "      <td>133</td>\n",
       "    </tr>\n",
       "    <tr>\n",
       "      <th>Huechuraba</th>\n",
       "      <td>44</td>\n",
       "    </tr>\n",
       "    <tr>\n",
       "      <th>Independencia</th>\n",
       "      <td>56</td>\n",
       "    </tr>\n",
       "    <tr>\n",
       "      <th>La Cisterna</th>\n",
       "      <td>31</td>\n",
       "    </tr>\n",
       "    <tr>\n",
       "      <th>La Florida</th>\n",
       "      <td>114</td>\n",
       "    </tr>\n",
       "    <tr>\n",
       "      <th>La Granja</th>\n",
       "      <td>6</td>\n",
       "    </tr>\n",
       "    <tr>\n",
       "      <th>La Pintana</th>\n",
       "      <td>1</td>\n",
       "    </tr>\n",
       "    <tr>\n",
       "      <th>La Reina</th>\n",
       "      <td>151</td>\n",
       "    </tr>\n",
       "    <tr>\n",
       "      <th>Las Condes</th>\n",
       "      <td>1467</td>\n",
       "    </tr>\n",
       "    <tr>\n",
       "      <th>Lo Barnechea</th>\n",
       "      <td>523</td>\n",
       "    </tr>\n",
       "    <tr>\n",
       "      <th>Lo Espejo</th>\n",
       "      <td>2</td>\n",
       "    </tr>\n",
       "    <tr>\n",
       "      <th>Lo Prado</th>\n",
       "      <td>8</td>\n",
       "    </tr>\n",
       "    <tr>\n",
       "      <th>Macul</th>\n",
       "      <td>112</td>\n",
       "    </tr>\n",
       "    <tr>\n",
       "      <th>Maipú</th>\n",
       "      <td>73</td>\n",
       "    </tr>\n",
       "    <tr>\n",
       "      <th>Pedro Aguirre Cerda</th>\n",
       "      <td>5</td>\n",
       "    </tr>\n",
       "    <tr>\n",
       "      <th>Peñalolén</th>\n",
       "      <td>70</td>\n",
       "    </tr>\n",
       "    <tr>\n",
       "      <th>Providencia</th>\n",
       "      <td>1751</td>\n",
       "    </tr>\n",
       "    <tr>\n",
       "      <th>Pudahuel</th>\n",
       "      <td>60</td>\n",
       "    </tr>\n",
       "    <tr>\n",
       "      <th>Quilicura</th>\n",
       "      <td>26</td>\n",
       "    </tr>\n",
       "    <tr>\n",
       "      <th>Quinta Normal</th>\n",
       "      <td>47</td>\n",
       "    </tr>\n",
       "    <tr>\n",
       "      <th>Recoleta</th>\n",
       "      <td>230</td>\n",
       "    </tr>\n",
       "    <tr>\n",
       "      <th>Renca</th>\n",
       "      <td>12</td>\n",
       "    </tr>\n",
       "    <tr>\n",
       "      <th>San Joaquín</th>\n",
       "      <td>47</td>\n",
       "    </tr>\n",
       "    <tr>\n",
       "      <th>San Miguel</th>\n",
       "      <td>139</td>\n",
       "    </tr>\n",
       "    <tr>\n",
       "      <th>Santiago</th>\n",
       "      <td>3101</td>\n",
       "    </tr>\n",
       "    <tr>\n",
       "      <th>Vitacura</th>\n",
       "      <td>241</td>\n",
       "    </tr>\n",
       "    <tr>\n",
       "      <th>Ñuñoa</th>\n",
       "      <td>750</td>\n",
       "    </tr>\n",
       "  </tbody>\n",
       "</table>\n",
       "</div>"
      ],
      "text/plain": [
       "                        neighbourhood_cleansed\n",
       "neighbourhood_cleansed                        \n",
       "Cerrillos                                   10\n",
       "Cerro Navia                                  8\n",
       "Conchalí                                     8\n",
       "El Bosque                                    5\n",
       "Estación Central                           133\n",
       "Huechuraba                                  44\n",
       "Independencia                               56\n",
       "La Cisterna                                 31\n",
       "La Florida                                 114\n",
       "La Granja                                    6\n",
       "La Pintana                                   1\n",
       "La Reina                                   151\n",
       "Las Condes                                1467\n",
       "Lo Barnechea                               523\n",
       "Lo Espejo                                    2\n",
       "Lo Prado                                     8\n",
       "Macul                                      112\n",
       "Maipú                                       73\n",
       "Pedro Aguirre Cerda                          5\n",
       "Peñalolén                                   70\n",
       "Providencia                               1751\n",
       "Pudahuel                                    60\n",
       "Quilicura                                   26\n",
       "Quinta Normal                               47\n",
       "Recoleta                                   230\n",
       "Renca                                       12\n",
       "San Joaquín                                 47\n",
       "San Miguel                                 139\n",
       "Santiago                                  3101\n",
       "Vitacura                                   241\n",
       "Ñuñoa                                      750"
      ]
     },
     "execution_count": 18,
     "metadata": {},
     "output_type": "execute_result"
    }
   ],
   "source": [
    "aparts3 = listings.groupby('neighbourhood_cleansed')['neighbourhood_cleansed'].count()\n",
    "aparts3 = pd.DataFrame(aparts3)\n",
    "aparts3"
   ]
  },
  {
   "cell_type": "markdown",
   "id": "39c9cc65-99d1-4d47-a5f8-1478b121b194",
   "metadata": {},
   "source": [
    "The three biggest neighbourhouds are:\n",
    "\n",
    "1 - Santiago               3101\n",
    "\n",
    "2 - Providencia            1751\n",
    "\n",
    "3 - Las Condes             1467"
   ]
  },
  {
   "cell_type": "code",
   "execution_count": 19,
   "id": "b18c1ca5-f38f-4552-84ba-9c88380f089c",
   "metadata": {},
   "outputs": [
    {
     "data": {
      "text/plain": [
       "array(['Providencia', 'Santiago', 'Las Condes'], dtype=object)"
      ]
     },
     "execution_count": 19,
     "metadata": {},
     "output_type": "execute_result"
    }
   ],
   "source": [
    "top = ['Santiago','Providencia','Las Condes' ]\n",
    "top3 = listings[listings.neighbourhood_cleansed.isin(top)]\n",
    "top3.neighbourhood_cleansed.unique()"
   ]
  },
  {
   "cell_type": "code",
   "execution_count": 20,
   "id": "d4156a0e-34c5-44ee-ac10-5a1d9c88d78a",
   "metadata": {},
   "outputs": [
    {
     "data": {
      "text/html": [
       "<div>\n",
       "<style scoped>\n",
       "    .dataframe tbody tr th:only-of-type {\n",
       "        vertical-align: middle;\n",
       "    }\n",
       "\n",
       "    .dataframe tbody tr th {\n",
       "        vertical-align: top;\n",
       "    }\n",
       "\n",
       "    .dataframe thead th {\n",
       "        text-align: right;\n",
       "    }\n",
       "</style>\n",
       "<table border=\"1\" class=\"dataframe\">\n",
       "  <thead>\n",
       "    <tr style=\"text-align: right;\">\n",
       "      <th></th>\n",
       "      <th></th>\n",
       "      <th>property_type</th>\n",
       "    </tr>\n",
       "    <tr>\n",
       "      <th>neighbourhood_cleansed</th>\n",
       "      <th>property_type</th>\n",
       "      <th></th>\n",
       "    </tr>\n",
       "  </thead>\n",
       "  <tbody>\n",
       "    <tr>\n",
       "      <th rowspan=\"5\" valign=\"top\">Las Condes</th>\n",
       "      <th>Dome house</th>\n",
       "      <td>1</td>\n",
       "    </tr>\n",
       "    <tr>\n",
       "      <th>Entire cabin</th>\n",
       "      <td>1</td>\n",
       "    </tr>\n",
       "    <tr>\n",
       "      <th>Entire chalet</th>\n",
       "      <td>1</td>\n",
       "    </tr>\n",
       "    <tr>\n",
       "      <th>Entire condominium (condo)</th>\n",
       "      <td>68</td>\n",
       "    </tr>\n",
       "    <tr>\n",
       "      <th>Entire guest suite</th>\n",
       "      <td>5</td>\n",
       "    </tr>\n",
       "    <tr>\n",
       "      <th>...</th>\n",
       "      <th>...</th>\n",
       "      <td>...</td>\n",
       "    </tr>\n",
       "    <tr>\n",
       "      <th rowspan=\"5\" valign=\"top\">Santiago</th>\n",
       "      <th>Shared room in hostel</th>\n",
       "      <td>7</td>\n",
       "    </tr>\n",
       "    <tr>\n",
       "      <th>Shared room in rental unit</th>\n",
       "      <td>40</td>\n",
       "    </tr>\n",
       "    <tr>\n",
       "      <th>Shared room in residential home</th>\n",
       "      <td>11</td>\n",
       "    </tr>\n",
       "    <tr>\n",
       "      <th>Shared room in serviced apartment</th>\n",
       "      <td>3</td>\n",
       "    </tr>\n",
       "    <tr>\n",
       "      <th>Shared room in tiny house</th>\n",
       "      <td>2</td>\n",
       "    </tr>\n",
       "  </tbody>\n",
       "</table>\n",
       "<p>131 rows × 1 columns</p>\n",
       "</div>"
      ],
      "text/plain": [
       "                                                          property_type\n",
       "neighbourhood_cleansed property_type                                   \n",
       "Las Condes             Dome house                                     1\n",
       "                       Entire cabin                                   1\n",
       "                       Entire chalet                                  1\n",
       "                       Entire condominium (condo)                    68\n",
       "                       Entire guest suite                             5\n",
       "...                                                                 ...\n",
       "Santiago               Shared room in hostel                          7\n",
       "                       Shared room in rental unit                    40\n",
       "                       Shared room in residential home               11\n",
       "                       Shared room in serviced apartment              3\n",
       "                       Shared room in tiny house                      2\n",
       "\n",
       "[131 rows x 1 columns]"
      ]
     },
     "execution_count": 20,
     "metadata": {},
     "output_type": "execute_result"
    }
   ],
   "source": [
    "apart_types = top3.groupby(['neighbourhood_cleansed','property_type'])['property_type'].count()\n",
    "apart_types.sort_values(ascending=False)\n",
    "aparts_df=pd.DataFrame(apart_types)\n",
    "aparts_df"
   ]
  },
  {
   "cell_type": "markdown",
   "id": "49315ba2-1714-4c3d-a86d-e5619c9a2560",
   "metadata": {},
   "source": [
    "### 4.What appartements in the top five neighbourhoods give the biggest profits per bed?"
   ]
  },
  {
   "cell_type": "markdown",
   "id": "9e551fd7-106d-407d-95fe-e13055bffcf3",
   "metadata": {},
   "source": [
    "Had to save and reload the CSV otherwise, we would have lost some values"
   ]
  },
  {
   "cell_type": "code",
   "execution_count": 21,
   "id": "9b7ddbca-ba18-46c2-b24d-99f429078ade",
   "metadata": {},
   "outputs": [],
   "source": [
    "beds2=pd.read_csv(\"beds.csv\")\n",
    "beds2.beds=beds2.beds.astype(float)"
   ]
  },
  {
   "cell_type": "code",
   "execution_count": 22,
   "id": "7870cf8a-3eb2-4619-8688-e0f25ada7662",
   "metadata": {},
   "outputs": [
    {
     "data": {
      "text/plain": [
       "58.485793607024526"
      ]
     },
     "execution_count": 22,
     "metadata": {},
     "output_type": "execute_result"
    }
   ],
   "source": [
    "# add profit_per_bed column\n",
    "beds2['profit_per_bed'] = beds2.price/beds2.beds\n",
    "beds2.profit_per_bed.mean()"
   ]
  },
  {
   "cell_type": "code",
   "execution_count": 23,
   "id": "b562b620-8d2c-439f-b7ce-a3103cc67797",
   "metadata": {},
   "outputs": [
    {
     "data": {
      "text/html": [
       "<div>\n",
       "<style scoped>\n",
       "    .dataframe tbody tr th:only-of-type {\n",
       "        vertical-align: middle;\n",
       "    }\n",
       "\n",
       "    .dataframe tbody tr th {\n",
       "        vertical-align: top;\n",
       "    }\n",
       "\n",
       "    .dataframe thead th {\n",
       "        text-align: right;\n",
       "    }\n",
       "</style>\n",
       "<table border=\"1\" class=\"dataframe\">\n",
       "  <thead>\n",
       "    <tr style=\"text-align: right;\">\n",
       "      <th></th>\n",
       "      <th>neighbourhood_cleansed</th>\n",
       "      <th>property_type</th>\n",
       "      <th>profit_per_bed</th>\n",
       "    </tr>\n",
       "  </thead>\n",
       "  <tbody>\n",
       "    <tr>\n",
       "      <th>234</th>\n",
       "      <td>Providencia</td>\n",
       "      <td>Entire rental unit</td>\n",
       "      <td>32556.696671</td>\n",
       "    </tr>\n",
       "    <tr>\n",
       "      <th>263</th>\n",
       "      <td>Providencia</td>\n",
       "      <td>Shared room in rental unit</td>\n",
       "      <td>30052.335388</td>\n",
       "    </tr>\n",
       "    <tr>\n",
       "      <th>186</th>\n",
       "      <td>Macul</td>\n",
       "      <td>Private room in rental unit</td>\n",
       "      <td>22946.494451</td>\n",
       "    </tr>\n",
       "    <tr>\n",
       "      <th>124</th>\n",
       "      <td>Las Condes</td>\n",
       "      <td>Private room in rental unit</td>\n",
       "      <td>10017.445129</td>\n",
       "    </tr>\n",
       "    <tr>\n",
       "      <th>251</th>\n",
       "      <td>Providencia</td>\n",
       "      <td>Private room in rental unit</td>\n",
       "      <td>10017.445129</td>\n",
       "    </tr>\n",
       "    <tr>\n",
       "      <th>96</th>\n",
       "      <td>La Reina</td>\n",
       "      <td>Private room in rental unit</td>\n",
       "      <td>10017.445129</td>\n",
       "    </tr>\n",
       "    <tr>\n",
       "      <th>446</th>\n",
       "      <td>Ñuñoa</td>\n",
       "      <td>Private room in rental unit</td>\n",
       "      <td>10007.427867</td>\n",
       "    </tr>\n",
       "    <tr>\n",
       "      <th>300</th>\n",
       "      <td>Recoleta</td>\n",
       "      <td>Entire rental unit</td>\n",
       "      <td>9143.092478</td>\n",
       "    </tr>\n",
       "    <tr>\n",
       "      <th>430</th>\n",
       "      <td>Ñuñoa</td>\n",
       "      <td>Entire rental unit</td>\n",
       "      <td>8041.701603</td>\n",
       "    </tr>\n",
       "    <tr>\n",
       "      <th>392</th>\n",
       "      <td>Santiago</td>\n",
       "      <td>Shared room in condominium (condo)</td>\n",
       "      <td>8015.043157</td>\n",
       "    </tr>\n",
       "    <tr>\n",
       "      <th>309</th>\n",
       "      <td>Recoleta</td>\n",
       "      <td>Private room in rental unit</td>\n",
       "      <td>8013.955610</td>\n",
       "    </tr>\n",
       "    <tr>\n",
       "      <th>125</th>\n",
       "      <td>Las Condes</td>\n",
       "      <td>Private room in residential home</td>\n",
       "      <td>7955.536375</td>\n",
       "    </tr>\n",
       "    <tr>\n",
       "      <th>447</th>\n",
       "      <td>Ñuñoa</td>\n",
       "      <td>Private room in residential home</td>\n",
       "      <td>7276.311961</td>\n",
       "    </tr>\n",
       "    <tr>\n",
       "      <th>359</th>\n",
       "      <td>Santiago</td>\n",
       "      <td>Entire rental unit</td>\n",
       "      <td>2836.004932</td>\n",
       "    </tr>\n",
       "  </tbody>\n",
       "</table>\n",
       "</div>"
      ],
      "text/plain": [
       "    neighbourhood_cleansed                       property_type  profit_per_bed\n",
       "234            Providencia                  Entire rental unit    32556.696671\n",
       "263            Providencia          Shared room in rental unit    30052.335388\n",
       "186                  Macul         Private room in rental unit    22946.494451\n",
       "124             Las Condes         Private room in rental unit    10017.445129\n",
       "251            Providencia         Private room in rental unit    10017.445129\n",
       "96                La Reina         Private room in rental unit    10017.445129\n",
       "446                  Ñuñoa         Private room in rental unit    10007.427867\n",
       "300               Recoleta                  Entire rental unit     9143.092478\n",
       "430                  Ñuñoa                  Entire rental unit     8041.701603\n",
       "392               Santiago  Shared room in condominium (condo)     8015.043157\n",
       "309               Recoleta         Private room in rental unit     8013.955610\n",
       "125             Las Condes    Private room in residential home     7955.536375\n",
       "447                  Ñuñoa    Private room in residential home     7276.311961\n",
       "359               Santiago                  Entire rental unit     2836.004932"
      ]
     },
     "execution_count": 23,
     "metadata": {},
     "output_type": "execute_result"
    }
   ],
   "source": [
    "appar_prof = beds2.groupby(['neighbourhood_cleansed','property_type'])['profit_per_bed'].max()\n",
    "prof = pd.DataFrame(appar_prof)\n",
    "prof.reset_index(inplace=True)\n",
    "prof = prof.sort_values(ascending=False, by = 'profit_per_bed').head(14)\n",
    "prof"
   ]
  },
  {
   "cell_type": "markdown",
   "id": "3920669c-fd01-4a8e-a574-b6e8c5cc6ab4",
   "metadata": {},
   "source": [
    "top appartements in the top five neighbourhoods are :\n",
    "\n",
    "1- Entire rental unit with in Providencia for 32556.0$\n",
    "\n",
    "2- Shared room in rental unit in Providencia for with 30052.0$\n",
    "\n",
    "3- Private room in rental unit in Macul for 22946.0$\n",
    "\n",
    "4- Private room in rental unit in Las Condes for with 10017$\n",
    "\n",
    "5- Private room in rental unit in Providencia for with 10017$"
   ]
  },
  {
   "cell_type": "markdown",
   "id": "103b6d58-a5f4-40d4-a909-7a1a70634b2f",
   "metadata": {},
   "source": [
    "these are obviously outliers in our data, above we checked the mean profit per bed and it's 58.48 which is reasonable"
   ]
  },
  {
   "cell_type": "markdown",
   "id": "5cfd3c93-aaa8-4432-b21e-8b459aa5e504",
   "metadata": {},
   "source": [
    "### 5.Is there a difference in price between apartments listed for more than 50 days and those who are listed less than 50 days?"
   ]
  },
  {
   "cell_type": "markdown",
   "id": "46662cf8-d0f5-4ef9-9795-959e908c6808",
   "metadata": {},
   "source": [
    "we don't quiet understand the question, for example appartment with ID 455, is availible for 30,60,90, and 365 days respectfully, so we chose column availibilty90 to be the cut off point"
   ]
  },
  {
   "cell_type": "markdown",
   "id": "b37b67dd-dc11-439a-93a3-c6ed1355256e",
   "metadata": {},
   "source": [
    "we did some data processing on excel mainly removing the empty values from bath column and transforming it from str to float"
   ]
  },
  {
   "cell_type": "code",
   "execution_count": 24,
   "id": "14017f82-d2da-44e8-8225-58826e97a339",
   "metadata": {},
   "outputs": [],
   "source": [
    "data2=pd.read_excel(\"Data2.xlsx\")"
   ]
  },
  {
   "cell_type": "code",
   "execution_count": 25,
   "id": "c2064ed6-17b1-4db5-aa84-27463250ede1",
   "metadata": {},
   "outputs": [
    {
     "data": {
      "text/plain": [
       "array([ 1. ,  2. ,  3. ,  1.5,  4. ,  2.5,  6. ,  4.5,  5. ,  3.5,  7. , 28. ,  8. , 10. , 11.5,  5.5, 24. ,  7.5])"
      ]
     },
     "execution_count": 25,
     "metadata": {},
     "output_type": "execute_result"
    }
   ],
   "source": [
    "data2.bath.unique()"
   ]
  },
  {
   "cell_type": "code",
   "execution_count": 26,
   "id": "47db0ba3-d247-4e60-9aa4-b127964cd8a5",
   "metadata": {},
   "outputs": [],
   "source": [
    "data2.bath=data2.bath.astype(float)"
   ]
  },
  {
   "cell_type": "code",
   "execution_count": 27,
   "id": "95f093de-d0cf-49bc-8931-5e93abaf5645",
   "metadata": {},
   "outputs": [],
   "source": [
    "# add profit_per_bed and profit_per_bath column\n",
    "data2['profit_bed'] = data2.price/data2.beds\n",
    "data2['profit_bath'] = data2.price/data2.bath"
   ]
  },
  {
   "cell_type": "code",
   "execution_count": 28,
   "id": "cc15281e-4c72-460b-b0c5-0fdb2a70f24b",
   "metadata": {},
   "outputs": [],
   "source": [
    "m50 = data2[data2.availability_90 >=50]\n",
    "p50 = data2[data2.availability_60<50]\n",
    "m50p=m50[\"price\"].mean()\n",
    "p50p=p50[\"price\"].mean()"
   ]
  },
  {
   "cell_type": "code",
   "execution_count": 29,
   "id": "a4625c49-2f5a-47d4-86bb-48f39376d296",
   "metadata": {},
   "outputs": [
    {
     "data": {
      "text/plain": [
       "(112.50012990480617, 60.70244923018297)"
      ]
     },
     "execution_count": 29,
     "metadata": {},
     "output_type": "execute_result"
    }
   ],
   "source": [
    "m50p, p50p"
   ]
  },
  {
   "cell_type": "markdown",
   "id": "87f02357-46e9-420d-a616-6b68008fc99b",
   "metadata": {},
   "source": [
    "we can see that the mean of the two categories varies alot, so that means there's a difference in the price"
   ]
  },
  {
   "cell_type": "markdown",
   "id": "34df4fc7-b1e9-4686-8750-fce08e1df896",
   "metadata": {},
   "source": [
    "### 6.Is there a difference in price between unitsd (only) with two bedrooms listed for more than 50 days and those who are listed less than 50 days?"
   ]
  },
  {
   "cell_type": "code",
   "execution_count": 30,
   "id": "78cf276b-f5a4-4509-926c-5769eb3b1883",
   "metadata": {},
   "outputs": [],
   "source": [
    "bed3 = data2[data2.bedrooms == 2]\n",
    "twob_m50 = bed3[bed3.availability_90 >=50]\n",
    "twob_p50 = bed3[bed3.availability_60<50]\n",
    "dm50p=twob_m50[\"price\"].mean()\n",
    "dp50p=twob_p50[\"price\"].mean()"
   ]
  },
  {
   "cell_type": "code",
   "execution_count": 31,
   "id": "95438207-418c-41c0-ae94-c918b95d52b4",
   "metadata": {},
   "outputs": [
    {
     "data": {
      "text/plain": [
       "(180.57514086797062, 72.65020591476156)"
      ]
     },
     "execution_count": 31,
     "metadata": {},
     "output_type": "execute_result"
    }
   ],
   "source": [
    "dm50p, dp50p"
   ]
  },
  {
   "cell_type": "markdown",
   "id": "21e07c2e-1912-448e-94aa-b132f913335d",
   "metadata": {},
   "source": [
    "the difference is more flagrant in appartments with two or more bedrooms listed"
   ]
  },
  {
   "cell_type": "markdown",
   "id": "696bd274-92ee-4540-97aa-5ccc81a91014",
   "metadata": {},
   "source": [
    "### 7.Calculate confidence intervals price per bed and for price per bathrooms for the city as whole and for the top three neighbourhoods."
   ]
  },
  {
   "cell_type": "code",
   "execution_count": 32,
   "id": "e2e2ceab-5a60-470a-befc-645b3a5c70a0",
   "metadata": {},
   "outputs": [
    {
     "data": {
      "text/plain": [
       "(45.29330388933306, 71.59543880883713)"
      ]
     },
     "execution_count": 32,
     "metadata": {},
     "output_type": "execute_result"
    }
   ],
   "source": [
    "# for price per beds whole data\n",
    "st.t.interval(0.95, len(data2.profit_bed)-1, loc=np.mean(data2.profit_bed), scale=st.sem(data2.profit_bed))"
   ]
  },
  {
   "cell_type": "markdown",
   "id": "6fcafaa0-fa59-49c7-8a45-fb295534040f",
   "metadata": {},
   "source": [
    "We are 95% confident that the price per bed in Santiago Airbnb is between 45.29 and 71.59."
   ]
  },
  {
   "cell_type": "code",
   "execution_count": 33,
   "id": "2368dfb8-1953-400b-aeac-80cd34f83433",
   "metadata": {},
   "outputs": [
    {
     "data": {
      "text/plain": [
       "(55.312828671673756, 89.30324150836275)"
      ]
     },
     "execution_count": 33,
     "metadata": {},
     "output_type": "execute_result"
    }
   ],
   "source": [
    "# for price per bath whole data\n",
    "st.t.interval(0.95, len(data2.profit_bath)-1, loc=np.mean(data2.profit_bath), scale=st.sem(data2.profit_bath))"
   ]
  },
  {
   "cell_type": "markdown",
   "id": "326d599e-531c-4970-b40b-93973a1d8e59",
   "metadata": {},
   "source": [
    "We are 95% confident that the price per bath in Santiago Airbnb is between 55.31 and 89.30."
   ]
  },
  {
   "cell_type": "code",
   "execution_count": 34,
   "id": "0e9e7185-0e48-48cd-a3fd-5fa8662f4988",
   "metadata": {},
   "outputs": [
    {
     "data": {
      "text/plain": [
       "array(['Providencia', 'Santiago', 'Las Condes'], dtype=object)"
      ]
     },
     "execution_count": 34,
     "metadata": {},
     "output_type": "execute_result"
    }
   ],
   "source": [
    "# top 3\n",
    "top3 = data2[data2.neighbourhood_cleansed.isin(top)]\n",
    "top3.neighbourhood_cleansed.unique()"
   ]
  },
  {
   "cell_type": "code",
   "execution_count": 35,
   "id": "65378c04-a94e-4a4c-b784-60e7b38d4352",
   "metadata": {},
   "outputs": [
    {
     "data": {
      "text/plain": [
       "(38.99104046733004, 71.06564755554726)"
      ]
     },
     "execution_count": 35,
     "metadata": {},
     "output_type": "execute_result"
    }
   ],
   "source": [
    "#for price per beds for top 3\n",
    "st.t.interval(0.95, len(top3.profit_bed)-1, loc=np.mean(top3.profit_bed), scale=st.sem(top3.profit_bed))"
   ]
  },
  {
   "cell_type": "markdown",
   "id": "471655e0-9836-46cb-9511-be0b0d8a29af",
   "metadata": {},
   "source": [
    "We are 95% confident that the price per bed in top three neighbourhouds is between 38.99 and 71.06."
   ]
  },
  {
   "cell_type": "code",
   "execution_count": 36,
   "id": "9aeac3ac-2090-4a9f-99d4-c2fbd7b6b52f",
   "metadata": {},
   "outputs": [
    {
     "data": {
      "text/plain": [
       "(43.947381685793204, 90.62043005483218)"
      ]
     },
     "execution_count": 36,
     "metadata": {},
     "output_type": "execute_result"
    }
   ],
   "source": [
    "#for price per bath for top 3\n",
    "st.t.interval(0.95, len(top3.profit_bath)-1, loc=np.mean(top3.profit_bath), scale=st.sem(top3.profit_bath))"
   ]
  },
  {
   "cell_type": "markdown",
   "id": "7a487567-2b93-4eb9-acea-08447848113d",
   "metadata": {},
   "source": [
    "We are 95% confident that the price per bath in top three neighbourhouds is between 43.94 and 90.61."
   ]
  },
  {
   "cell_type": "markdown",
   "id": "1dada2c0-1f21-41de-ad7c-bf8043d507dd",
   "metadata": {},
   "source": [
    "### 9.Define hypothesis tests for prices per neighbourhood and reviews per month. \n",
    "\n",
    "Hypothesis:\n",
    "- Null hypothsis A : neighbourhoud has no influence over price.\n",
    "- Null hypothsis B : reviews per month has no influence over price."
   ]
  },
  {
   "cell_type": "markdown",
   "id": "663c1346-b077-47ec-96fc-afb9ccdbd0c5",
   "metadata": {},
   "source": [
    "#### Neibourhoud has no influence over price"
   ]
  },
  {
   "cell_type": "code",
   "execution_count": 37,
   "id": "33254437-11d8-4431-9c75-81dee934e656",
   "metadata": {},
   "outputs": [
    {
     "data": {
      "text/plain": [
       "97.8864182103148"
      ]
     },
     "execution_count": 37,
     "metadata": {},
     "output_type": "execute_result"
    }
   ],
   "source": [
    "##determine the average price for all the population\n",
    "data2.price.mean()"
   ]
  },
  {
   "cell_type": "code",
   "execution_count": 38,
   "id": "cff0f370-fbad-4fda-bf41-36430ffd336a",
   "metadata": {},
   "outputs": [
    {
     "data": {
      "text/plain": [
       "49.97877039073373"
      ]
     },
     "execution_count": 38,
     "metadata": {},
     "output_type": "execute_result"
    }
   ],
   "source": [
    "### take one simple for one neighbourhood\n",
    "St=[\"Santiago\"]\n",
    "Santiago= data2[data2.neighbourhood_cleansed.isin(St)]\n",
    "Santiago.price.mean()"
   ]
  },
  {
   "cell_type": "code",
   "execution_count": 39,
   "id": "b263f3b6-89a4-4bef-aa1b-ac3d0d1a2664",
   "metadata": {},
   "outputs": [
    {
     "data": {
      "text/plain": [
       "Ttest_1sampResult(statistic=-13.374188062450804, pvalue=1.2183699540496165e-39)"
      ]
     },
     "execution_count": 39,
     "metadata": {},
     "output_type": "execute_result"
    }
   ],
   "source": [
    "st.ttest_1samp(a = Santiago.price ,popmean = data2.price.mean())"
   ]
  },
  {
   "cell_type": "markdown",
   "id": "0dcfaaf3-1333-4634-a973-b5e6b4e0d9a7",
   "metadata": {},
   "source": [
    "The T statistic of -13.137 tells us how the sample mean deviates from the population mean, more importantly we have a P value, which tells us the probability of getting these two different means due to chance, is 1.2183699540496165e-39 a number so small, it's practicly insignifcant. In conclusion we reject the null hypothesis, we can even go as far as accepting the alternative hypothesis, will be demonstrated later"
   ]
  },
  {
   "cell_type": "markdown",
   "id": "79cf196c-532d-471f-945f-efac17169319",
   "metadata": {},
   "source": [
    "#### reviews per month has no influence over price."
   ]
  },
  {
   "cell_type": "code",
   "execution_count": 40,
   "id": "02e8f69a-3a0f-42d4-99c0-2a352563e458",
   "metadata": {},
   "outputs": [
    {
     "data": {
      "text/plain": [
       "0.8502965874575693"
      ]
     },
     "execution_count": 40,
     "metadata": {},
     "output_type": "execute_result"
    }
   ],
   "source": [
    "##check the number of average reviews per month, it will be our cut off point for a sample\n",
    "data2.reviews_per_month.mean()"
   ]
  },
  {
   "cell_type": "code",
   "execution_count": 41,
   "id": "39892b20-4088-486d-86f6-417b7654f493",
   "metadata": {},
   "outputs": [],
   "source": [
    "##taking the sample \n",
    "high_reviews= data2[data2.reviews_per_month > 0.85]"
   ]
  },
  {
   "cell_type": "code",
   "execution_count": 42,
   "id": "23502a79-eb9b-4ff2-b473-f2d08592b324",
   "metadata": {},
   "outputs": [
    {
     "data": {
      "text/plain": [
       "52.68806824724944"
      ]
     },
     "execution_count": 42,
     "metadata": {},
     "output_type": "execute_result"
    }
   ],
   "source": [
    "high_reviews.price.mean()"
   ]
  },
  {
   "cell_type": "code",
   "execution_count": 43,
   "id": "c7452d37-3b2c-4bca-aa80-f73ad473db23",
   "metadata": {},
   "outputs": [
    {
     "data": {
      "text/plain": [
       "Ttest_1sampResult(statistic=-42.01789233000101, pvalue=1.3704567501342862e-267)"
      ]
     },
     "execution_count": 43,
     "metadata": {},
     "output_type": "execute_result"
    }
   ],
   "source": [
    "st.ttest_1samp(high_reviews.price, popmean=data2.price.mean())"
   ]
  },
  {
   "cell_type": "markdown",
   "id": "eae1bc89-c1d7-420b-9cf1-0e6e039b025e",
   "metadata": {},
   "source": [
    "The T statistic of -42.02 tells us how the sample mean deviates from the population mean, more importantly we have a P value, which tells us the probability of getting these two different means due to chance, is 1.3704567501342862e-267 a number so small, it's practicly insignifcant. In conclusion we reject the null hypothesis"
   ]
  },
  {
   "cell_type": "markdown",
   "id": "c4cba00f-20de-4908-b885-1ce67f9e2952",
   "metadata": {},
   "source": [
    "### 10.Test unpaired sample means for prices per bed from different neighbourhoods and check if there is a difference in mean or not."
   ]
  },
  {
   "cell_type": "code",
   "execution_count": 44,
   "id": "19c71927-0db6-4fdc-93a5-4fee9a03d9be",
   "metadata": {},
   "outputs": [],
   "source": [
    "ms = data2.groupby('neighbourhood_cleansed')['profit_bed'].mean()\n",
    "ms = pd.DataFrame(ms).reset_index()\n",
    "ms = ms.sample(15)"
   ]
  },
  {
   "cell_type": "code",
   "execution_count": 45,
   "id": "e7ac6c40-438c-4d8c-a138-81dcdf29cb47",
   "metadata": {},
   "outputs": [
    {
     "data": {
      "text/plain": [
       "<Figure size 432x288 with 0 Axes>"
      ]
     },
     "metadata": {},
     "output_type": "display_data"
    }
   ],
   "source": [
    "fig = plt.figure()\n",
    "sns.set(rc={'figure.figsize':(12,9)})"
   ]
  },
  {
   "cell_type": "code",
   "execution_count": 46,
   "id": "748b3a66-0599-4eab-a25e-e6227fa49f59",
   "metadata": {},
   "outputs": [
    {
     "data": {
      "text/plain": [
       "(array([ 0,  1,  2,  3,  4,  5,  6,  7,  8,  9, 10, 11, 12, 13, 14]),\n",
       " [Text(0, 0, 'San Miguel'),\n",
       "  Text(1, 0, 'Lo Prado'),\n",
       "  Text(2, 0, 'Quinta Normal'),\n",
       "  Text(3, 0, 'Maipú'),\n",
       "  Text(4, 0, 'La Florida'),\n",
       "  Text(5, 0, 'La Granja'),\n",
       "  Text(6, 0, 'Vitacura'),\n",
       "  Text(7, 0, 'Recoleta'),\n",
       "  Text(8, 0, 'Las Condes'),\n",
       "  Text(9, 0, 'Cerrillos'),\n",
       "  Text(10, 0, 'Estación Central'),\n",
       "  Text(11, 0, 'Macul'),\n",
       "  Text(12, 0, 'Huechuraba'),\n",
       "  Text(13, 0, 'Lo Barnechea'),\n",
       "  Text(14, 0, 'La Reina')])"
      ]
     },
     "execution_count": 46,
     "metadata": {},
     "output_type": "execute_result"
    },
    {
     "data": {
      "image/png": "[encoded data removed]",
      "text/plain": [
       "<Figure size 864x648 with 1 Axes>"
      ]
     },
     "metadata": {},
     "output_type": "display_data"
    }
   ],
   "source": [
    "sns.barplot(x= ms.neighbourhood_cleansed, y = ms.profit_bed, palette=\"Paired\").set_title('mean prices per neighbourhouds')\n",
    "plt.xticks(rotation=90)"
   ]
  },
  {
   "cell_type": "markdown",
   "id": "42282f46-8b8f-45de-9f8f-15ae71801810",
   "metadata": {},
   "source": [
    "as you can see in this graph, there's a significant change in the mean depending on the neighbourhood"
   ]
  },
  {
   "cell_type": "markdown",
   "id": "c524fd13-c06d-457d-a9ec-164b690976bb",
   "metadata": {},
   "source": [
    "### 11.Calculate correlations  between the  prices, number of bathrooms, bedrooms, beds and neighbourhood."
   ]
  },
  {
   "cell_type": "code",
   "execution_count": 47,
   "id": "6bbbcbfd-0f8b-4891-82ea-9528ca589f09",
   "metadata": {},
   "outputs": [],
   "source": [
    "cor_list=[\"price\",\"beds\",\"bath\",\"bedrooms\",\"neighbourhood_cleansed\"]\n",
    "corr=data2[cor_list]"
   ]
  },
  {
   "cell_type": "code",
   "execution_count": 48,
   "id": "47b7ba0b-1a51-4972-86dc-d96adfd37895",
   "metadata": {},
   "outputs": [],
   "source": [
    "CorMat=corr.corr()"
   ]
  },
  {
   "cell_type": "code",
   "execution_count": 49,
   "id": "0c021e7c-8e81-4eba-9287-2796b1d1514b",
   "metadata": {},
   "outputs": [
    {
     "data": {
      "image/png": "[encoded data removed]",
      "text/plain": [
       "<Figure size 864x648 with 2 Axes>"
      ]
     },
     "metadata": {},
     "output_type": "display_data"
    }
   ],
   "source": [
    "sns.heatmap(CorMat, annot=True)\n",
    "plt.show()"
   ]
  },
  {
   "cell_type": "markdown",
   "id": "1477890f-b48b-4cd3-90ec-7822b1064226",
   "metadata": {},
   "source": [
    "### 12.Regression - What predicts Airbnb rental prices? Number of beds?  Number of bathrooms? Review scores? Other? Suggest a linear regressions and answers the question. & BONUS QUESTION"
   ]
  },
  {
   "cell_type": "markdown",
   "id": "acc84235-6443-4c76-8aa2-0e5de0905cf1",
   "metadata": {},
   "source": [
    "We chose to do a more complex form of regression, a RandomForest, we did this because with Fastai and TabularPandas, it will allow us to show you some cool features"
   ]
  },
  {
   "cell_type": "code",
   "execution_count": 50,
   "id": "cbc0063b-d715-40c9-a71c-7dbae6a326e0",
   "metadata": {},
   "outputs": [],
   "source": [
    "xs,y = to.train.xs,to.train.y"
   ]
  },
  {
   "cell_type": "code",
   "execution_count": 51,
   "id": "20323802-d2fd-4331-a4be-5ffbd4a731a8",
   "metadata": {},
   "outputs": [],
   "source": [
    "def rf(xs, y, n_estimators=40, max_samples=9200,\n",
    "       max_features=0.5, min_samples_leaf=5, **kwargs):\n",
    "    return RandomForestRegressor(n_jobs=-1, n_estimators=n_estimators,\n",
    "        max_samples=max_samples, max_features=max_features,\n",
    "        min_samples_leaf=min_samples_leaf, oob_score=True).fit(xs, y)"
   ]
  },
  {
   "cell_type": "code",
   "execution_count": 52,
   "id": "d46ea60b-976a-42ae-98d6-a29c1e7e90ce",
   "metadata": {},
   "outputs": [
    {
     "name": "stderr",
     "output_type": "stream",
     "text": [
      "/opt/conda/lib/python3.7/site-packages/sklearn/base.py:442: UserWarning: X does not have valid feature names, but RandomForestRegressor was fitted with feature names\n",
      "  \"X does not have valid feature names, but\"\n"
     ]
    }
   ],
   "source": [
    "m = rf(xs,y);"
   ]
  },
  {
   "cell_type": "markdown",
   "id": "f78881e0-025a-478f-b57a-c52d1dc2407d",
   "metadata": {},
   "source": [
    "#### Feature Importance"
   ]
  },
  {
   "cell_type": "code",
   "execution_count": 53,
   "id": "97e44c47-ad3d-48cb-8b81-eb8c400e6f5f",
   "metadata": {},
   "outputs": [],
   "source": [
    "def rf_feat_importance(m, df):\n",
    "    return pd.DataFrame({'cols':df.columns, 'imp':m.feature_importances_}\n",
    "                       ).sort_values('imp', ascending=False)"
   ]
  },
  {
   "cell_type": "code",
   "execution_count": 54,
   "id": "583e2d9e-73d0-4091-bcf1-1ded983f343e",
   "metadata": {},
   "outputs": [
    {
     "data": {
      "text/html": [
       "<div>\n",
       "<style scoped>\n",
       "    .dataframe tbody tr th:only-of-type {\n",
       "        vertical-align: middle;\n",
       "    }\n",
       "\n",
       "    .dataframe tbody tr th {\n",
       "        vertical-align: top;\n",
       "    }\n",
       "\n",
       "    .dataframe thead th {\n",
       "        text-align: right;\n",
       "    }\n",
       "</style>\n",
       "<table border=\"1\" class=\"dataframe\">\n",
       "  <thead>\n",
       "    <tr style=\"text-align: right;\">\n",
       "      <th></th>\n",
       "      <th>cols</th>\n",
       "      <th>imp</th>\n",
       "    </tr>\n",
       "  </thead>\n",
       "  <tbody>\n",
       "    <tr>\n",
       "      <th>18</th>\n",
       "      <td>availability_365</td>\n",
       "      <td>0.198508</td>\n",
       "    </tr>\n",
       "    <tr>\n",
       "      <th>4</th>\n",
       "      <td>neighbourhood_cleansed</td>\n",
       "      <td>0.128412</td>\n",
       "    </tr>\n",
       "    <tr>\n",
       "      <th>12</th>\n",
       "      <td>beds</td>\n",
       "      <td>0.116638</td>\n",
       "    </tr>\n",
       "    <tr>\n",
       "      <th>3</th>\n",
       "      <td>bath</td>\n",
       "      <td>0.069538</td>\n",
       "    </tr>\n",
       "    <tr>\n",
       "      <th>5</th>\n",
       "      <td>property_type</td>\n",
       "      <td>0.069142</td>\n",
       "    </tr>\n",
       "    <tr>\n",
       "      <th>16</th>\n",
       "      <td>availability_60</td>\n",
       "      <td>0.067113</td>\n",
       "    </tr>\n",
       "    <tr>\n",
       "      <th>17</th>\n",
       "      <td>availability_90</td>\n",
       "      <td>0.060283</td>\n",
       "    </tr>\n",
       "    <tr>\n",
       "      <th>11</th>\n",
       "      <td>number_of_reviews</td>\n",
       "      <td>0.055214</td>\n",
       "    </tr>\n",
       "    <tr>\n",
       "      <th>9</th>\n",
       "      <td>reviews_per_month_na</td>\n",
       "      <td>0.047120</td>\n",
       "    </tr>\n",
       "    <tr>\n",
       "      <th>1</th>\n",
       "      <td>instant_bookable</td>\n",
       "      <td>0.043934</td>\n",
       "    </tr>\n",
       "  </tbody>\n",
       "</table>\n",
       "</div>"
      ],
      "text/plain": [
       "                      cols       imp\n",
       "18        availability_365  0.198508\n",
       "4   neighbourhood_cleansed  0.128412\n",
       "12                    beds  0.116638\n",
       "3                     bath  0.069538\n",
       "5            property_type  0.069142\n",
       "16         availability_60  0.067113\n",
       "17         availability_90  0.060283\n",
       "11       number_of_reviews  0.055214\n",
       "9     reviews_per_month_na  0.047120\n",
       "1         instant_bookable  0.043934"
      ]
     },
     "execution_count": 54,
     "metadata": {},
     "output_type": "execute_result"
    }
   ],
   "source": [
    "fi = rf_feat_importance(m, xs)\n",
    "fi[:10]"
   ]
  },
  {
   "cell_type": "code",
   "execution_count": 55,
   "id": "623be367-012b-421a-8ca6-fc2c4c95d710",
   "metadata": {},
   "outputs": [
    {
     "data": {
      "text/plain": [
       "<AxesSubplot:ylabel='cols'>"
      ]
     },
     "execution_count": 55,
     "metadata": {},
     "output_type": "execute_result"
    },
    {
     "data": {
      "image/png": "[encoded data removed]",
      "text/plain": [
       "<Figure size 864x504 with 1 Axes>"
      ]
     },
     "metadata": {},
     "output_type": "display_data"
    }
   ],
   "source": [
    "def plot_fi(fi):\n",
    "    return fi.plot('cols', 'imp', 'barh', figsize=(12,7), legend=False)\n",
    "\n",
    "plot_fi(fi[:10])"
   ]
  },
  {
   "cell_type": "markdown",
   "id": "83382e38-ea5e-466e-a2cf-63df68c679e2",
   "metadata": {},
   "source": [
    "In the grave above we can see which feature infleunce price the most, in first place we got something unexpected, it's availability thats the most important feature followed by the neighbourhood and the number of beds. then we can see which features are redundant thanks to this Fastai's cluster_columns function, by redundant, we mean features that had smillar effects on price according to the model"
   ]
  },
  {
   "cell_type": "code",
   "execution_count": 56,
   "id": "6b6c077a-c45a-4b55-b23c-a34e07b02330",
   "metadata": {},
   "outputs": [
    {
     "data": {
      "image/png": "[encoded data removed]",
      "text/plain": [
       "<Figure size 720x432 with 1 Axes>"
      ]
     },
     "metadata": {},
     "output_type": "display_data"
    }
   ],
   "source": [
    "cluster_columns(xs)"
   ]
  }
 ],
 "metadata": {
  "environment": {
   "kernel": "python3",
   "name": "pytorch-gpu.1-9.m82",
   "type": "gcloud",
   "uri": "gcr.io/deeplearning-platform-release/pytorch-gpu.1-9:m82"
  },
  "kernelspec": {
   "display_name": "Python 3",
   "language": "python",
   "name": "python3"
  },
  "language_info": {
   "codemirror_mode": {
    "name": "ipython",
    "version": 3
   },
   "file_extension": ".py",
   "mimetype": "text/x-python",
   "name": "python",
   "nbconvert_exporter": "python",
   "pygments_lexer": "ipython3",
   "version": "3.7.10"
  }
 },
 "nbformat": 4,
 "nbformat_minor": 5
}
